{
 "cells": [
  {
   "cell_type": "code",
   "execution_count": 1,
   "metadata": {},
   "outputs": [],
   "source": [
    "import tensorflow as tf\n",
    "import numpy as np"
   ]
  },
  {
   "cell_type": "code",
   "execution_count": 2,
   "metadata": {
    "collapsed": false,
    "pycharm": {
     "name": "#%%\n"
    }
   },
   "outputs": [],
   "source": [
    "mnist = tf.keras.datasets.mnist\n",
    "(train_images, train_labels), (test_images, test_labels) = mnist.load_data()\n",
    "train_images = train_images.reshape(60000, 784)\n",
    "np.save(\"mnist_images.npy\",train_images)\n",
    "np.save(\"mnist_labels.npy\",train_labels)"
   ]
  },
  {
   "cell_type": "code",
   "execution_count": 3,
   "metadata": {},
   "outputs": [],
   "source": [
    "fashion_mnist = tf.keras.datasets.fashion_mnist\n",
    "(train_images, train_labels), (test_images, test_labels) = fashion_mnist.load_data()\n",
    "train_images = train_images.reshape(60000, 784)\n",
    "np.save(\"fashion_mnist_images.npy\",train_images)\n",
    "np.save(\"fashion_mnist_labels.npy\",train_labels)"
   ]
  },
  {
   "cell_type": "code",
   "execution_count": 4,
   "metadata": {},
   "outputs": [],
   "source": [
    "cifar10 = tf.keras.datasets.cifar10\n",
    "(train_images, train_labels), (test_images, test_labels) = cifar10.load_data()\n",
    "train_images = train_images.reshape(50000, 32*32*3)\n",
    "np.save(\"cifar10_images.npy\",train_images)\n",
    "np.save(\"cifar10_labels.npy\",train_labels)"
   ]
  },
  {
   "cell_type": "code",
   "execution_count": 5,
   "metadata": {
    "collapsed": false,
    "pycharm": {
     "name": "#%%\n"
    }
   },
   "outputs": [
    {
     "name": "stdout",
     "output_type": "stream",
     "text": [
      "[96. 96. 96. ... 40. 40. 40.]\n"
     ]
    }
   ],
   "source": [
    "from numpy import genfromtxt\n",
    "data = genfromtxt('imagenet_short.csv', delimiter=',')\n",
    "np.save(\"imagenet64_images.npy\",data[:,0:64])\n",
    "np.save(\"imagenet64_labels.npy\",data[:,-1])\n",
    "print(data[:,-1])\n"
   ]
  },
  {
   "cell_type": "code",
   "execution_count": 7,
   "metadata": {
    "collapsed": false,
    "pycharm": {
     "name": "#%%\n"
    }
   },
   "outputs": [
    {
     "name": "stdout",
     "output_type": "stream",
     "text": [
      "(11314, 130107)\n"
     ]
    }
   ],
   "source": [
    "from sklearn.datasets import fetch_20newsgroups_vectorized\n",
    "data, labels = fetch_20newsgroups_vectorized(subset='train',return_X_y=True,normalize=False)\n",
    "\n",
    "D = 20000\n",
    "print(data.shape)\n",
    "sum_row = data.sum(axis=0)\n",
    "sorted_sum_row = np.argsort(sum_row, axis=1)[0,::-1]\n",
    "indices = np.squeeze(np.asarray(sorted_sum_row[0,:D]))\n",
    "data_array = data[:,indices].toarray()\n",
    "np.save(\"20newsgroups\"+str(D)+\"_train.npy\",data_array)\n",
    "np.save(\"20newsgroups\"+str(D)+\"_labels.npy\",labels+1)"
   ]
  }
 ],
 "metadata": {
  "celltoolbar": "Raw Cell Format",
  "interpreter": {
   "hash": "34b414f817d4cb14ae50d2374de9fe6611a9d65cd3430da6f5e12d03a6418fd7"
  },
  "kernelspec": {
   "display_name": "Python 3",
   "language": "python",
   "name": "python3"
  },
  "language_info": {
   "codemirror_mode": {
    "name": "ipython",
    "version": 3
   },
   "file_extension": ".py",
   "mimetype": "text/x-python",
   "name": "python",
   "nbconvert_exporter": "python",
   "pygments_lexer": "ipython3",
   "version": "3.8.11"
  }
 },
 "nbformat": 4,
 "nbformat_minor": 2
}
